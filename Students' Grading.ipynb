{
  "cells": [
    {
      "cell_type": "code",
      "source": [
        "def calculate_grade(marks):\n",
        "  if marks >= 90:\n",
        "    return \"A\"\n",
        "  elif marks >= 80:\n",
        "    return \"B\"\n",
        "  elif marks >= 70:\n",
        "    return \"C\"\n",
        "  elif marks >= 60:\n",
        "    return \"D\"\n",
        "  else:\n",
        "    return \"F\"\n",
        "\n",
        "# Example usage\n",
        "student_marks = {\"Akbar\": 85, \"Zeeshan\": 92, \"Bilal\": 68}\n",
        "for student, marks in student_marks.items():\n",
        "  grade = calculate_grade(marks)\n",
        "  print(f\"{student}: {grade}\")"
      ],
      "metadata": {
        "id": "9snsx6_dY1Dv"
      },
      "execution_count": null,
      "outputs": []
    }
  ],
  "metadata": {
    "colab": {
      "name": "Welcome to Colaboratory",
      "provenance": []
    },
    "kernelspec": {
      "display_name": "Python 3",
      "name": "python3"
    }
  },
  "nbformat": 4,
  "nbformat_minor": 0
}