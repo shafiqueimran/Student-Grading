{
  "cells": [
    {
      "cell_type": "code",
      "source": [
        "print ('grades')\n",
        "def calculate_grade(marks):\n",
        "  if marks >= 90:\n",
        "    return \"A\"\n",
        "  elif marks >= 80:\n",
        "    return \"B\"\n",
        "  elif marks >= 70:\n",
        "    return \"C\"\n",
        "  elif marks >= 60:\n",
        "    return \"D\"\n",
        "  else:\n",
        "    return \"F\"\n",
        "\n",
        "# Example usage\n",
        "student_marks = {\"Akbar\": 85, \"Zeeshan\": 92, \"Bilal\": 68}\n",
        "for student, marks in student_marks.items():\n",
        "  grade = calculate_grade(marks)\n",
        "  print(f\"{student}: {grade}\")"
      ],
      "metadata": {
        "colab": {
          "base_uri": "https://localhost:8080/"
        },
        "id": "9snsx6_dY1Dv",
        "outputId": "069c2cf2-31c0-4097-87d3-9848eaf2c3b9"
      },
      "execution_count": 3,
      "outputs": [
        {
          "output_type": "stream",
          "name": "stdout",
          "text": [
            "grades\n",
            "Akbar: B\n",
            "Zeeshan: A\n",
            "Bilal: D\n"
          ]
        }
      ]
    },
    {
      "cell_type": "code",
      "source": [],
      "metadata": {
        "id": "crMcaqe3a4Ch"
      },
      "execution_count": null,
      "outputs": []
    }
  ],
  "metadata": {
    "colab": {
      "name": "Welcome to Colaboratory",
      "provenance": []
    },
    "kernelspec": {
      "display_name": "Python 3",
      "name": "python3"
    }
  },
  "nbformat": 4,
  "nbformat_minor": 0
}